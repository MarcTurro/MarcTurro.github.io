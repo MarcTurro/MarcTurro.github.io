{
 "cells": [
  {
   "cell_type": "markdown",
   "metadata": {},
   "source": [
    "# Jeu de cartes"
   ]
  },
  {
   "cell_type": "markdown",
   "metadata": {},
   "source": [
    "On dispose d'un paquet trié de n cartes numérotées de 0 à n (n ≥ 0).  \n",
    "La carte 0 est au-dessus du paquet, la carte n au-dessous du paquet. On prend la carte supérieure et on la replace au-dessous du paquet. On prend la suivante et on la jette. Et ainsi de suite...  \n",
    "Quelle sera la dernière carte survivante ?  \n",
    "Écrire une fonction qui retourne la valeur de la carte survivante. Donner la liste des cartes survivantes pour tous les paquets de taille inférieure ou égale à 128 cartes.   "
   ]
  },
  {
   "cell_type": "markdown",
   "metadata": {},
   "source": [
    "1. Quelle structure abstraite : liste? pile? file? semble la plus adaptée à la résolution de ce problème?"
   ]
  },
  {
   "cell_type": "markdown",
   "metadata": {},
   "source": [
    "Réponse : "
   ]
  },
  {
   "cell_type": "markdown",
   "metadata": {},
   "source": [
    "2. Retrouver dans le cours, l'implémentation en POO la structure choisie   \n",
    "\n",
    "Cette méthode doit produire des affichages comme celui-ci avec l'instruction `print`: |5|4|3|2|1|0|"
   ]
  },
  {
   "cell_type": "code",
   "execution_count": 1,
   "metadata": {},
   "outputs": [],
   "source": [
    "# Implémentation de la structure abstraite\n"
   ]
  },
  {
   "cell_type": "markdown",
   "metadata": {},
   "source": [
    "3. Compléter la fonction `def cree_jeu` ci-dessous :"
   ]
  },
  {
   "cell_type": "code",
   "execution_count": 2,
   "metadata": {},
   "outputs": [],
   "source": [
    "def cree_jeu(n) :\n",
    "    \"\"\"\n",
    "    Précondition : n est un entier\n",
    "    Postcondition : la fonction renvoie une le jeu de cartes trié\n",
    "    Par exemple :\n",
    "    >>> print(cree_jeu(5))\n",
    "    |5|4|3|2|1|0|\n",
    "\n",
    "    \"\"\""
   ]
  },
  {
   "cell_type": "markdown",
   "metadata": {},
   "source": [
    "4. Compléter la fonction `def survivant` ci-dessous"
   ]
  },
  {
   "cell_type": "code",
   "execution_count": 3,
   "metadata": {},
   "outputs": [],
   "source": [
    "def survivant(jeu) :\n",
    "    \"\"\"\n",
    "    Précondition : jeu est de type abstrait ...\n",
    "    Par exemple jeu = |5|4|3|2|1|0|\n",
    "    0 est au dessus du paquet de carte, et 5 en dessous.\n",
    "    Le début de la file est donc 0, et la fin est 5.\n",
    "    Postcondition : le résultat est un nombre entier : le numéro de la carte\n",
    "    survivante\n",
    "    Dans cet exemple la carte survivante est 4\n",
    "\n",
    "    \"\"\"\n",
    "    "
   ]
  },
  {
   "cell_type": "markdown",
   "metadata": {},
   "source": [
    "5. Écrire enfin la fonction `liste_survivant` qui renvoie la liste des survivants pour tous les paquets de taille inférieur au égal à l'entier n."
   ]
  },
  {
   "cell_type": "code",
   "execution_count": 4,
   "metadata": {},
   "outputs": [],
   "source": [
    "def liste_survivant(n) :\n",
    "    \"\"\"\n",
    "    Précondition : n est un entier\n",
    "    Postcondition : la fonction renvoie une liste de survivants\n",
    "    \"\"\""
   ]
  },
  {
   "cell_type": "markdown",
   "metadata": {},
   "source": []
  },
  {
   "cell_type": "code",
   "execution_count": null,
   "metadata": {},
   "outputs": [],
   "source": []
  }
 ],
 "metadata": {
  "kernelspec": {
   "display_name": "Python 3",
   "language": "python",
   "name": "python3"
  },
  "language_info": {
   "codemirror_mode": {
    "name": "ipython",
    "version": 3
   },
   "file_extension": ".py",
   "mimetype": "text/x-python",
   "name": "python",
   "nbconvert_exporter": "python",
   "pygments_lexer": "ipython3",
   "version": "3.7.3"
  },
  "latex_envs": {
   "LaTeX_envs_menu_present": true,
   "autoclose": false,
   "autocomplete": true,
   "bibliofile": "biblio.bib",
   "cite_by": "apalike",
   "current_citInitial": 1,
   "eqLabelWithNumbers": true,
   "eqNumInitial": 1,
   "hotkeys": {
    "equation": "Ctrl-E",
    "itemize": "Ctrl-I"
   },
   "labels_anchors": false,
   "latex_user_defs": false,
   "report_style_numbering": false,
   "user_envs_cfg": false
  }
 },
 "nbformat": 4,
 "nbformat_minor": 4
}
